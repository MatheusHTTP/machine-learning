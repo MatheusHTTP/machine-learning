{
 "cells": [
  {
   "cell_type": "markdown",
   "metadata": {},
   "source": [
    "## Abstract:\n",
    "### Poker Hand classification :\n",
    "            Problem statement is to predict the poker hand based on the available data. Data consist of information about 5 playing cards from the deck. Each card described using 2 variables: Suit(S) and Rank(C). "
   ]
  },
  {
   "cell_type": "markdown",
   "metadata": {},
   "source": [
    "**Attribute Information:**\n",
    "\n",
    "   1) S1 “Suit of card #1” : (1-4) representing {Hearts, Spades, Diamonds, Clubs}<br>\n",
    "   2) C1 “Rank of card #1” : (1-13) representing (Ace, 2, 3, ... , Queen, King)<br>\n",
    "   3) S2 “Suit of card #2” : (1-4) representing {Hearts, Spades, Diamonds, Clubs}<br>\n",
    "   4) C2 “Rank of card #2” : (1-13) representing (Ace, 2, 3, ... , Queen, King)<br>\n",
    "   5) S3 “Suit of card #3” : (1-4) representing {Hearts, Spades, Diamonds, Clubs}<br>\n",
    "   6) C3 “Rank of card #3” : (1-13) representing (Ace, 2, 3, ... , Queen, King)<br>\n",
    "   7) S4 “Suit of card #4” : (1-4) representing {Hearts, Spades, Diamonds, Clubs}<br>\n",
    "   8) C4 “Rank of card #4” : (1-13) representing (Ace, 2, 3, ... , Queen, King)<br>\n",
    "   9) S5 “Suit of card #5” : (1-4) representing {Hearts, Spades, Diamonds, Clubs}<br>\n",
    "   10) C5 “Rank of card #5” : (1-13) representing (Ace, 2, 3, ... , Queen, King)<br>\n",
    "   11) CLASS “Poker Hand”  : (0-9) Representing..<br>\n",
    "      \n",
    "      0: Nothing in hand; not a recognized poker hand\n",
    "      1: One pair; one pair of equal ranks within five cards\n",
    "      2: Two pairs; two pairs of equal ranks within five cards\n",
    "      3: Three of a kind; three equal ranks within five cards\n",
    "      4: Straight; five cards, sequentially ranked with no gaps\n",
    "      5: Flush; five cards with the same suit\n",
    "      6: Full house; pair + different rank three of a kind\n",
    "      7: Four of a kind; four equal ranks within five cards\n",
    "      8: Straight flush; straight + flush\n",
    "      9: Royal flush; {Ace, King, Queen, Jack, Ten} + flush\n"
   ]
  },
  {
   "cell_type": "markdown",
   "metadata": {},
   "source": [
    "## Libraries:"
   ]
  },
  {
   "cell_type": "code",
   "execution_count": 62,
   "metadata": {},
   "outputs": [],
   "source": [
    "import pandas as pd\n",
    "import numpy as np\n",
    "import seaborn as sns\n",
    "from pycm import *"
   ]
  },
  {
   "cell_type": "code",
   "execution_count": 63,
   "metadata": {},
   "outputs": [
    {
     "data": {
      "text/html": [
       "<div>\n",
       "<style scoped>\n",
       "    .dataframe tbody tr th:only-of-type {\n",
       "        vertical-align: middle;\n",
       "    }\n",
       "\n",
       "    .dataframe tbody tr th {\n",
       "        vertical-align: top;\n",
       "    }\n",
       "\n",
       "    .dataframe thead th {\n",
       "        text-align: right;\n",
       "    }\n",
       "</style>\n",
       "<table border=\"1\" class=\"dataframe\">\n",
       "  <thead>\n",
       "    <tr style=\"text-align: right;\">\n",
       "      <th></th>\n",
       "      <th>S1</th>\n",
       "      <th>C1</th>\n",
       "      <th>S2</th>\n",
       "      <th>C2</th>\n",
       "      <th>S3</th>\n",
       "      <th>C3</th>\n",
       "      <th>S4</th>\n",
       "      <th>C4</th>\n",
       "      <th>S5</th>\n",
       "      <th>C5</th>\n",
       "      <th>Class</th>\n",
       "    </tr>\n",
       "  </thead>\n",
       "  <tbody>\n",
       "    <tr>\n",
       "      <th>0</th>\n",
       "      <td>1</td>\n",
       "      <td>1</td>\n",
       "      <td>1</td>\n",
       "      <td>13</td>\n",
       "      <td>2</td>\n",
       "      <td>4</td>\n",
       "      <td>2</td>\n",
       "      <td>3</td>\n",
       "      <td>1</td>\n",
       "      <td>12</td>\n",
       "      <td>0</td>\n",
       "    </tr>\n",
       "    <tr>\n",
       "      <th>1</th>\n",
       "      <td>3</td>\n",
       "      <td>12</td>\n",
       "      <td>3</td>\n",
       "      <td>2</td>\n",
       "      <td>3</td>\n",
       "      <td>11</td>\n",
       "      <td>4</td>\n",
       "      <td>5</td>\n",
       "      <td>2</td>\n",
       "      <td>5</td>\n",
       "      <td>1</td>\n",
       "    </tr>\n",
       "    <tr>\n",
       "      <th>2</th>\n",
       "      <td>1</td>\n",
       "      <td>9</td>\n",
       "      <td>4</td>\n",
       "      <td>6</td>\n",
       "      <td>1</td>\n",
       "      <td>4</td>\n",
       "      <td>3</td>\n",
       "      <td>2</td>\n",
       "      <td>3</td>\n",
       "      <td>9</td>\n",
       "      <td>1</td>\n",
       "    </tr>\n",
       "    <tr>\n",
       "      <th>3</th>\n",
       "      <td>1</td>\n",
       "      <td>4</td>\n",
       "      <td>3</td>\n",
       "      <td>13</td>\n",
       "      <td>2</td>\n",
       "      <td>13</td>\n",
       "      <td>2</td>\n",
       "      <td>1</td>\n",
       "      <td>3</td>\n",
       "      <td>6</td>\n",
       "      <td>1</td>\n",
       "    </tr>\n",
       "    <tr>\n",
       "      <th>4</th>\n",
       "      <td>3</td>\n",
       "      <td>10</td>\n",
       "      <td>2</td>\n",
       "      <td>7</td>\n",
       "      <td>1</td>\n",
       "      <td>2</td>\n",
       "      <td>2</td>\n",
       "      <td>11</td>\n",
       "      <td>4</td>\n",
       "      <td>9</td>\n",
       "      <td>0</td>\n",
       "    </tr>\n",
       "  </tbody>\n",
       "</table>\n",
       "</div>"
      ],
      "text/plain": [
       "   S1  C1  S2  C2  S3  C3  S4  C4  S5  C5  Class\n",
       "0   1   1   1  13   2   4   2   3   1  12      0\n",
       "1   3  12   3   2   3  11   4   5   2   5      1\n",
       "2   1   9   4   6   1   4   3   2   3   9      1\n",
       "3   1   4   3  13   2  13   2   1   3   6      1\n",
       "4   3  10   2   7   1   2   2  11   4   9      0"
      ]
     },
     "execution_count": 63,
     "metadata": {},
     "output_type": "execute_result"
    }
   ],
   "source": [
    "df = pd.read_csv(\"poker-hand-testing.DATA\")\n",
    "df.head()"
   ]
  },
  {
   "cell_type": "code",
   "execution_count": 64,
   "metadata": {},
   "outputs": [
    {
     "data": {
      "text/html": [
       "<div>\n",
       "<style scoped>\n",
       "    .dataframe tbody tr th:only-of-type {\n",
       "        vertical-align: middle;\n",
       "    }\n",
       "\n",
       "    .dataframe tbody tr th {\n",
       "        vertical-align: top;\n",
       "    }\n",
       "\n",
       "    .dataframe thead th {\n",
       "        text-align: right;\n",
       "    }\n",
       "</style>\n",
       "<table border=\"1\" class=\"dataframe\">\n",
       "  <thead>\n",
       "    <tr style=\"text-align: right;\">\n",
       "      <th></th>\n",
       "      <th>S1</th>\n",
       "      <th>C1</th>\n",
       "      <th>S2</th>\n",
       "      <th>C2</th>\n",
       "      <th>S3</th>\n",
       "      <th>C3</th>\n",
       "      <th>S4</th>\n",
       "      <th>C4</th>\n",
       "      <th>S5</th>\n",
       "      <th>C5</th>\n",
       "      <th>Class</th>\n",
       "    </tr>\n",
       "  </thead>\n",
       "  <tbody>\n",
       "    <tr>\n",
       "      <th>S1</th>\n",
       "      <td>1.000000</td>\n",
       "      <td>-0.001450</td>\n",
       "      <td>-0.021647</td>\n",
       "      <td>0.001212</td>\n",
       "      <td>-0.019335</td>\n",
       "      <td>0.000414</td>\n",
       "      <td>-0.019263</td>\n",
       "      <td>-0.000059</td>\n",
       "      <td>-0.018926</td>\n",
       "      <td>0.001545</td>\n",
       "      <td>0.000031</td>\n",
       "    </tr>\n",
       "    <tr>\n",
       "      <th>C1</th>\n",
       "      <td>-0.001450</td>\n",
       "      <td>1.000000</td>\n",
       "      <td>-0.000679</td>\n",
       "      <td>-0.021512</td>\n",
       "      <td>-0.000133</td>\n",
       "      <td>-0.019390</td>\n",
       "      <td>-0.000118</td>\n",
       "      <td>-0.018657</td>\n",
       "      <td>0.000212</td>\n",
       "      <td>-0.021046</td>\n",
       "      <td>0.003877</td>\n",
       "    </tr>\n",
       "    <tr>\n",
       "      <th>S2</th>\n",
       "      <td>-0.021647</td>\n",
       "      <td>-0.000679</td>\n",
       "      <td>1.000000</td>\n",
       "      <td>0.000061</td>\n",
       "      <td>-0.019172</td>\n",
       "      <td>0.000963</td>\n",
       "      <td>-0.020511</td>\n",
       "      <td>-0.000118</td>\n",
       "      <td>-0.020205</td>\n",
       "      <td>0.001309</td>\n",
       "      <td>-0.000195</td>\n",
       "    </tr>\n",
       "    <tr>\n",
       "      <th>C2</th>\n",
       "      <td>0.001212</td>\n",
       "      <td>-0.021512</td>\n",
       "      <td>0.000061</td>\n",
       "      <td>1.000000</td>\n",
       "      <td>-0.000438</td>\n",
       "      <td>-0.020856</td>\n",
       "      <td>0.001535</td>\n",
       "      <td>-0.020684</td>\n",
       "      <td>-0.000639</td>\n",
       "      <td>-0.017275</td>\n",
       "      <td>0.001711</td>\n",
       "    </tr>\n",
       "    <tr>\n",
       "      <th>S3</th>\n",
       "      <td>-0.019335</td>\n",
       "      <td>-0.000133</td>\n",
       "      <td>-0.019172</td>\n",
       "      <td>-0.000438</td>\n",
       "      <td>1.000000</td>\n",
       "      <td>0.001093</td>\n",
       "      <td>-0.019825</td>\n",
       "      <td>0.000623</td>\n",
       "      <td>-0.020612</td>\n",
       "      <td>0.000017</td>\n",
       "      <td>0.001194</td>\n",
       "    </tr>\n",
       "    <tr>\n",
       "      <th>C3</th>\n",
       "      <td>0.000414</td>\n",
       "      <td>-0.019390</td>\n",
       "      <td>0.000963</td>\n",
       "      <td>-0.020856</td>\n",
       "      <td>0.001093</td>\n",
       "      <td>1.000000</td>\n",
       "      <td>-0.000176</td>\n",
       "      <td>-0.019029</td>\n",
       "      <td>0.001361</td>\n",
       "      <td>-0.020381</td>\n",
       "      <td>0.002483</td>\n",
       "    </tr>\n",
       "    <tr>\n",
       "      <th>S4</th>\n",
       "      <td>-0.019263</td>\n",
       "      <td>-0.000118</td>\n",
       "      <td>-0.020511</td>\n",
       "      <td>0.001535</td>\n",
       "      <td>-0.019825</td>\n",
       "      <td>-0.000176</td>\n",
       "      <td>1.000000</td>\n",
       "      <td>-0.000339</td>\n",
       "      <td>-0.019475</td>\n",
       "      <td>-0.000368</td>\n",
       "      <td>-0.001157</td>\n",
       "    </tr>\n",
       "    <tr>\n",
       "      <th>C4</th>\n",
       "      <td>-0.000059</td>\n",
       "      <td>-0.018657</td>\n",
       "      <td>-0.000118</td>\n",
       "      <td>-0.020684</td>\n",
       "      <td>0.000623</td>\n",
       "      <td>-0.019029</td>\n",
       "      <td>-0.000339</td>\n",
       "      <td>1.000000</td>\n",
       "      <td>0.000862</td>\n",
       "      <td>-0.020783</td>\n",
       "      <td>0.003011</td>\n",
       "    </tr>\n",
       "    <tr>\n",
       "      <th>S5</th>\n",
       "      <td>-0.018926</td>\n",
       "      <td>0.000212</td>\n",
       "      <td>-0.020205</td>\n",
       "      <td>-0.000639</td>\n",
       "      <td>-0.020612</td>\n",
       "      <td>0.001361</td>\n",
       "      <td>-0.019475</td>\n",
       "      <td>0.000862</td>\n",
       "      <td>1.000000</td>\n",
       "      <td>-0.000088</td>\n",
       "      <td>-0.001514</td>\n",
       "    </tr>\n",
       "    <tr>\n",
       "      <th>C5</th>\n",
       "      <td>0.001545</td>\n",
       "      <td>-0.021046</td>\n",
       "      <td>0.001309</td>\n",
       "      <td>-0.017275</td>\n",
       "      <td>0.000017</td>\n",
       "      <td>-0.020381</td>\n",
       "      <td>-0.000368</td>\n",
       "      <td>-0.020783</td>\n",
       "      <td>-0.000088</td>\n",
       "      <td>1.000000</td>\n",
       "      <td>0.001603</td>\n",
       "    </tr>\n",
       "    <tr>\n",
       "      <th>Class</th>\n",
       "      <td>0.000031</td>\n",
       "      <td>0.003877</td>\n",
       "      <td>-0.000195</td>\n",
       "      <td>0.001711</td>\n",
       "      <td>0.001194</td>\n",
       "      <td>0.002483</td>\n",
       "      <td>-0.001157</td>\n",
       "      <td>0.003011</td>\n",
       "      <td>-0.001514</td>\n",
       "      <td>0.001603</td>\n",
       "      <td>1.000000</td>\n",
       "    </tr>\n",
       "  </tbody>\n",
       "</table>\n",
       "</div>"
      ],
      "text/plain": [
       "             S1        C1        S2        C2        S3        C3        S4  \\\n",
       "S1     1.000000 -0.001450 -0.021647  0.001212 -0.019335  0.000414 -0.019263   \n",
       "C1    -0.001450  1.000000 -0.000679 -0.021512 -0.000133 -0.019390 -0.000118   \n",
       "S2    -0.021647 -0.000679  1.000000  0.000061 -0.019172  0.000963 -0.020511   \n",
       "C2     0.001212 -0.021512  0.000061  1.000000 -0.000438 -0.020856  0.001535   \n",
       "S3    -0.019335 -0.000133 -0.019172 -0.000438  1.000000  0.001093 -0.019825   \n",
       "C3     0.000414 -0.019390  0.000963 -0.020856  0.001093  1.000000 -0.000176   \n",
       "S4    -0.019263 -0.000118 -0.020511  0.001535 -0.019825 -0.000176  1.000000   \n",
       "C4    -0.000059 -0.018657 -0.000118 -0.020684  0.000623 -0.019029 -0.000339   \n",
       "S5    -0.018926  0.000212 -0.020205 -0.000639 -0.020612  0.001361 -0.019475   \n",
       "C5     0.001545 -0.021046  0.001309 -0.017275  0.000017 -0.020381 -0.000368   \n",
       "Class  0.000031  0.003877 -0.000195  0.001711  0.001194  0.002483 -0.001157   \n",
       "\n",
       "             C4        S5        C5     Class  \n",
       "S1    -0.000059 -0.018926  0.001545  0.000031  \n",
       "C1    -0.018657  0.000212 -0.021046  0.003877  \n",
       "S2    -0.000118 -0.020205  0.001309 -0.000195  \n",
       "C2    -0.020684 -0.000639 -0.017275  0.001711  \n",
       "S3     0.000623 -0.020612  0.000017  0.001194  \n",
       "C3    -0.019029  0.001361 -0.020381  0.002483  \n",
       "S4    -0.000339 -0.019475 -0.000368 -0.001157  \n",
       "C4     1.000000  0.000862 -0.020783  0.003011  \n",
       "S5     0.000862  1.000000 -0.000088 -0.001514  \n",
       "C5    -0.020783 -0.000088  1.000000  0.001603  \n",
       "Class  0.003011 -0.001514  0.001603  1.000000  "
      ]
     },
     "execution_count": 64,
     "metadata": {},
     "output_type": "execute_result"
    }
   ],
   "source": [
    "corr=df.corr()\n",
    "corr"
   ]
  },
  {
   "cell_type": "markdown",
   "metadata": {},
   "source": [
    "All independent variables are significant and have impact on dependent variable."
   ]
  },
  {
   "cell_type": "code",
   "execution_count": 65,
   "metadata": {},
   "outputs": [
    {
     "data": {
      "image/png": "[encoded data removed]",
      "text/plain": [
       "<Figure size 432x288 with 2 Axes>"
      ]
     },
     "metadata": {},
     "output_type": "display_data"
    }
   ],
   "source": [
    "corr=df.corr()\n",
    "#mask = np.zeros_like(corr)\n",
    "mask = np.zeros_like(corr, dtype=np.bool)\n",
    "mask[np.triu_indices_from(mask)] = True\n",
    "with sns.axes_style(\"white\"):\n",
    "    ax = sns.heatmap(corr, mask=mask, vmax=.3, square=True)"
   ]
  },
  {
   "cell_type": "markdown",
   "metadata": {},
   "source": [
    "## Dependent, Independent variable declearation :"
   ]
  },
  {
   "cell_type": "code",
   "execution_count": 66,
   "metadata": {},
   "outputs": [],
   "source": [
    "y=df['Class']\n",
    "X=df.drop(['Class'],axis=1)\n",
    "features=np.array(X)\n",
    "feature_list=X.columns\n",
    "models=[]\n",
    "scores=[]"
   ]
  },
  {
   "cell_type": "markdown",
   "metadata": {},
   "source": [
    "# Train,Test,Val Split: \n",
    "__Spliting into traing,Validation and testing data:__"
   ]
  },
  {
   "cell_type": "code",
   "execution_count": 67,
   "metadata": {},
   "outputs": [
    {
     "name": "stdout",
     "output_type": "stream",
     "text": [
      "\n",
      "train_X (720000, 10) \n",
      "test_X (100000, 10) \n",
      "val_X (180000, 10) \n",
      "train_y (720000,) \n",
      "test_y (100000,) \n",
      "val_y (180000,)\n"
     ]
    }
   ],
   "source": [
    "from sklearn.model_selection import train_test_split\n",
    "\n",
    "train_X, test_X, train_y, test_y = train_test_split(X, y,test_size=0.1,random_state=2)\n",
    "train_X, val_X, train_y, val_y = train_test_split(train_X, train_y, test_size=0.2, random_state=1)\n",
    "print(\"\\ntrain_X\",train_X.shape,\"\\ntest_X\",test_X.shape, \"\\nval_X\",val_X.shape, \"\\ntrain_y\",train_y.shape,\"\\ntest_y\",test_y.shape,\"\\nval_y\", val_y.shape)"
   ]
  },
  {
   "cell_type": "markdown",
   "metadata": {},
   "source": [
    "## Stats of the variables: "
   ]
  },
  {
   "cell_type": "code",
   "execution_count": 68,
   "metadata": {
    "scrolled": false
   },
   "outputs": [
    {
     "name": "stderr",
     "output_type": "stream",
     "text": [
      "C:\\Users\\khist\\Anaconda3\\lib\\site-packages\\numpy\\core\\fromnumeric.py:2389: FutureWarning: Method .ptp is deprecated and will be removed in a future version. Use numpy.ptp instead.\n",
      "  return ptp(axis=axis, out=out, **kwargs)\n"
     ]
    },
    {
     "name": "stdout",
     "output_type": "stream",
     "text": [
      "                            OLS Regression Results                            \n",
      "==============================================================================\n",
      "Dep. Variable:                  Class   R-squared:                       0.000\n",
      "Model:                            OLS   Adj. R-squared:                  0.000\n",
      "Method:                 Least Squares   F-statistic:                     2.349\n",
      "Date:                Mon, 27 Jan 2020   Prob (F-statistic):            0.00908\n",
      "Time:                        21:07:10   Log-Likelihood:            -8.3750e+05\n",
      "No. Observations:              720000   AIC:                         1.675e+06\n",
      "Df Residuals:                  719989   BIC:                         1.675e+06\n",
      "Df Model:                          10                                         \n",
      "Covariance Type:            nonrobust                                         \n",
      "==============================================================================\n",
      "                 coef    std err          t      P>|t|      [0.025      0.975]\n",
      "------------------------------------------------------------------------------\n",
      "const          0.6020      0.006     96.167      0.000       0.590       0.614\n",
      "S1             0.0004      0.001      0.532      0.595      -0.001       0.002\n",
      "C1             0.0007      0.000      2.878      0.004       0.000       0.001\n",
      "S2            -0.0001      0.001     -0.132      0.895      -0.002       0.001\n",
      "C2             0.0005      0.000      1.956      0.050   -8.82e-07       0.001\n",
      "S3             0.0007      0.001      0.881      0.378      -0.001       0.002\n",
      "C3             0.0005      0.000      1.896      0.058   -1.56e-05       0.001\n",
      "S4            -0.0010      0.001     -1.166      0.244      -0.003       0.001\n",
      "C4             0.0005      0.000      2.228      0.026    6.53e-05       0.001\n",
      "S5            -0.0008      0.001     -1.003      0.316      -0.002       0.001\n",
      "C5             0.0002      0.000      0.891      0.373      -0.000       0.001\n",
      "==============================================================================\n",
      "Omnibus:                   319098.884   Durbin-Watson:                   2.002\n",
      "Prob(Omnibus):                  0.000   Jarque-Bera (JB):          2247833.646\n",
      "Skew:                           2.004   Prob(JB):                         0.00\n",
      "Kurtosis:                      10.672   Cond. No.                         117.\n",
      "==============================================================================\n",
      "\n",
      "Warnings:\n",
      "[1] Standard Errors assume that the covariance matrix of the errors is correctly specified.\n"
     ]
    }
   ],
   "source": [
    "import statsmodels.api as sm\n",
    "from scipy import stats\n",
    "\n",
    "X2 = sm.add_constant(train_X)\n",
    "est = sm.OLS(train_y, X2)\n",
    "est2 = est.fit()\n",
    "print(est2.summary())"
   ]
  },
  {
   "cell_type": "markdown",
   "metadata": {},
   "source": [
    "__Used OLS to get important features from the dataset.__\n",
    "\n",
    "__Here we can see, p-value for const, c1,c2,c4 are Important as it's p-value is less that 0.05__ <br>\n",
    "*Note: P-value and T are inversely proportional.* "
   ]
  },
  {
   "cell_type": "markdown",
   "metadata": {},
   "source": [
    "# Metrics"
   ]
  },
  {
   "cell_type": "code",
   "execution_count": 69,
   "metadata": {},
   "outputs": [],
   "source": [
    "from sklearn.metrics import accuracy_score,f1_score\n",
    "from sklearn.metrics import mean_squared_error\n",
    "from sklearn.metrics import log_loss,f1_score, average_precision_score\n",
    "from sklearn.model_selection import cross_val_score"
   ]
  },
  {
   "cell_type": "markdown",
   "metadata": {},
   "source": [
    "# 1.Random Forest"
   ]
  },
  {
   "cell_type": "code",
   "execution_count": 70,
   "metadata": {},
   "outputs": [],
   "source": [
    "from sklearn.ensemble import RandomForestClassifier\n",
    "from sklearn.datasets import make_classification"
   ]
  },
  {
   "cell_type": "code",
   "execution_count": 71,
   "metadata": {},
   "outputs": [
    {
     "name": "stderr",
     "output_type": "stream",
     "text": [
      "C:\\Users\\khist\\Anaconda3\\lib\\site-packages\\sklearn\\ensemble\\forest.py:245: FutureWarning: The default value of n_estimators will change from 10 in version 0.20 to 100 in 0.22.\n",
      "  \"10 in version 0.20 to 100 in 0.22.\", FutureWarning)\n"
     ]
    },
    {
     "data": {
      "text/plain": [
       "RandomForestClassifier(bootstrap=True, class_weight=None, criterion='gini',\n",
       "                       max_depth=2, max_features='auto', max_leaf_nodes=None,\n",
       "                       min_impurity_decrease=0.0, min_impurity_split=None,\n",
       "                       min_samples_leaf=1, min_samples_split=2,\n",
       "                       min_weight_fraction_leaf=0.0, n_estimators=10,\n",
       "                       n_jobs=None, oob_score=False, random_state=0, verbose=0,\n",
       "                       warm_start=False)"
      ]
     },
     "execution_count": 71,
     "metadata": {},
     "output_type": "execute_result"
    }
   ],
   "source": [
    "rfc = RandomForestClassifier(max_depth=2, random_state=0)\n",
    "rfc.fit(train_X, train_y)"
   ]
  },
  {
   "cell_type": "code",
   "execution_count": 72,
   "metadata": {},
   "outputs": [],
   "source": [
    "pred_rf= rfc.predict(val_X)"
   ]
  },
  {
   "cell_type": "code",
   "execution_count": 73,
   "metadata": {},
   "outputs": [
    {
     "data": {
      "text/plain": [
       "0.5021"
      ]
     },
     "execution_count": 73,
     "metadata": {},
     "output_type": "execute_result"
    }
   ],
   "source": [
    "score_rf=f1_score(val_y,pred_rf,average=\"micro\")\n",
    "score_rf"
   ]
  },
  {
   "cell_type": "code",
   "execution_count": 74,
   "metadata": {},
   "outputs": [
    {
     "name": "stdout",
     "output_type": "stream",
     "text": [
      "Important of independant variables:  \n",
      "Variable: C2                   Importance: 0.38\n",
      "Variable: C4                   Importance: 0.1\n",
      "Variable: S5                   Importance: 0.1\n",
      "Variable: S2                   Importance: 0.09\n",
      "Variable: S3                   Importance: 0.09\n",
      "Variable: C5                   Importance: 0.09\n",
      "Variable: C1                   Importance: 0.08\n",
      "Variable: C3                   Importance: 0.05\n",
      "Variable: S1                   Importance: 0.02\n",
      "Variable: S4                   Importance: 0.01\n"
     ]
    }
   ],
   "source": [
    "# Get numerical feature importances\n",
    "importances = list(rfc.feature_importances_)\n",
    "feature_importances = [(feature, round(importance, 2)) for feature, importance in zip(feature_list, importances)]\n",
    "feature_importances = sorted(feature_importances, key = lambda x: x[1], reverse = True)\n",
    "print(\"Important of independant variables:  \")\n",
    "[print('Variable: {:20} Importance: {}'.format(*pair)) for pair in feature_importances];"
   ]
  },
  {
   "cell_type": "code",
   "execution_count": null,
   "metadata": {},
   "outputs": [],
   "source": []
  },
  {
   "cell_type": "code",
   "execution_count": 75,
   "metadata": {},
   "outputs": [
    {
     "name": "stdout",
     "output_type": "stream",
     "text": [
      "Total Classes:  [0, 1, 2, 3, 4, 5, 6, 7, 8, 9]\n",
      "Overall Statistics : \n",
      "\n",
      "ACC Macro                                                         0.90042\n",
      "F1 Macro                                                          0.06824\n",
      "Kappa                                                             0.00694\n",
      "Overall ACC                                                       0.5021\n",
      "PPV Macro                                                         None\n",
      "SOA1(Landis & Koch)                                               Slight\n",
      "TPR Macro                                                         0.10074\n",
      "Zero-one Loss                                                     89622\n",
      "\n",
      "Class Statistics :\n",
      "\n",
      "Classes                                                           0             1             2             3             4             5             6             7             8             9             \n",
      "ACC(Accuracy)                                                     0.50327       0.57702       0.95247       0.97869       0.99632       0.99801       0.99866       0.99979       0.99998       0.99999       \n",
      "AUC(Area under the ROC curve)                                     0.50432       0.5027        0.5           0.5           0.5           0.5           0.5           0.5           0.5           0.5           \n",
      "AUCI(AUC value interpretation)                                    Poor          Poor          Poor          Poor          Poor          Poor          Poor          Poor          Poor          Poor          \n",
      "F1(F1 score - harmonic mean of precision and sensitivity)         0.66765       0.01473       0.0           0.0           0.0           0.0           0.0           0.0           0.0           0.0           \n",
      "FN(False negative/miss/type 2 error)                              0             75927         8555          3835          662           359           241           38            4             1             \n",
      "FP(False positive/type 1 error/false alarm)                       89412         210           0             0             0             0             0             0             0             0             \n",
      "N(Condition negative)                                             90191         103504        171445        176165        179338        179641        179759        179962        179996        179999        \n",
      "P(Condition positive or support)                                  89809         76496         8555          3835          662           359           241           38            4             1             \n",
      "POP(Population)                                                   180000        180000        180000        180000        180000        180000        180000        180000        180000        180000        \n",
      "PPV(Precision or positive predictive value)                       0.50111       0.73042       None          None          None          None          None          None          None          None          \n",
      "TN(True negative/correct rejection)                               779           103294        171445        176165        179338        179641        179759        179962        179996        179999        \n",
      "TON(Test outcome negative)                                        779           179221        180000        180000        180000        180000        180000        180000        180000        180000        \n",
      "TOP(Test outcome positive)                                        179221        779           0             0             0             0             0             0             0             0             \n",
      "TP(True positive/hit)                                             89809         569           0             0             0             0             0             0             0             0             \n",
      "TPR(Sensitivity, recall, hit rate, or true positive rate)         1.0           0.00744       0.0           0.0           0.0           0.0           0.0           0.0           0.0           0.0           \n",
      "\n",
      "None\n"
     ]
    },
    {
     "name": "stderr",
     "output_type": "stream",
     "text": [
      "C:\\Users\\khist\\Anaconda3\\lib\\site-packages\\pycm\\pycm_obj.py:174: RuntimeWarning: The confusion matrix is a high dimension matrix and won't be demonstrated properly.\n",
      "The save_csv method can be used to save the confusion matrix in csv format and have a better demonstration of it.\n",
      "  warn(CLASS_NUMBER_WARNING, RuntimeWarning)\n"
     ]
    }
   ],
   "source": [
    "## Statistics \n",
    "y_actu =  numpy.array(val_y) \n",
    "y_pred =  numpy.array(pred_rf) \n",
    "\n",
    "cm1 = ConfusionMatrix(actual_vector=y_actu, predict_vector=y_pred) # Create CM From Data\n",
    "print(\"Total Classes: \",cm1.classes)\n",
    "print(cm1.stat(summary=True))"
   ]
  },
  {
   "cell_type": "markdown",
   "metadata": {},
   "source": [
    "1. **Is the relationship significant?**\n",
    "-> Yes\n",
    "2. **Are any model assumptions violated?**\n",
    "-> No\n",
    "3. **Is there any multi-collinearity in the model?**\n",
    "-> No\n",
    "4. **In the multivariate models are predictor variables independent of all the other predictor variables?**\n",
    "-> Yes,there is No multi-collinearity**\n",
    "5. **In in multivariate models rank the most significant predictor variables and exclude insignificant ones from the model.**\n",
    "-> C2,C5,S2,C3 are the most important features amongs the other**\n",
    "6. **Does the model make sense?**\n",
    "-> yes**\n",
    "7. **Does regularization help?**\n",
    "-> did not use any regularization method **\n",
    "8. **Which independent variables are significant?**\n",
    "->C2,C5,S2,C3 are significant**\n",
    "9. **Which hyperparameters are important?**\n",
    "-> **max_depth is important hyperparamenter in this model** "
   ]
  },
  {
   "cell_type": "markdown",
   "metadata": {},
   "source": [
    "# 2.KNeighborsClassifier"
   ]
  },
  {
   "cell_type": "code",
   "execution_count": 76,
   "metadata": {},
   "outputs": [
    {
     "data": {
      "text/plain": [
       "KNeighborsClassifier(algorithm='auto', leaf_size=30, metric='minkowski',\n",
       "                     metric_params=None, n_jobs=None, n_neighbors=30, p=2,\n",
       "                     weights='uniform')"
      ]
     },
     "execution_count": 76,
     "metadata": {},
     "output_type": "execute_result"
    }
   ],
   "source": [
    "from sklearn.neighbors import KNeighborsClassifier\n",
    "neigh = KNeighborsClassifier(n_neighbors=30)\n",
    "neigh.fit(train_X, train_y)"
   ]
  },
  {
   "cell_type": "code",
   "execution_count": null,
   "metadata": {
    "scrolled": true
   },
   "outputs": [],
   "source": []
  },
  {
   "cell_type": "code",
   "execution_count": 78,
   "metadata": {},
   "outputs": [],
   "source": [
    "pred_knn=neigh.predict(val_X)"
   ]
  },
  {
   "cell_type": "code",
   "execution_count": 79,
   "metadata": {},
   "outputs": [
    {
     "data": {
      "text/plain": [
       "0.6362"
      ]
     },
     "execution_count": 79,
     "metadata": {},
     "output_type": "execute_result"
    }
   ],
   "source": [
    "score_knn=accuracy_score(val_y, pred_knn)\n",
    "score_knn"
   ]
  },
  {
   "cell_type": "code",
   "execution_count": 80,
   "metadata": {},
   "outputs": [
    {
     "name": "stdout",
     "output_type": "stream",
     "text": [
      "Total Classes:  [0, 1, 2, 3, 4, 5, 6, 7, 8, 9]\n",
      "Overall Statistics : \n",
      "\n",
      "ACC Macro                                                         0.92724\n",
      "F1 Macro                                                          0.1322\n",
      "Kappa                                                             0.31329\n",
      "Overall ACC                                                       0.6362\n",
      "PPV Macro                                                         None\n",
      "SOA1(Landis & Koch)                                               Fair\n",
      "TPR Macro                                                         0.13669\n",
      "Zero-one Loss                                                     65484\n",
      "\n",
      "Class Statistics :\n",
      "\n",
      "Classes                                                           0             1             2             3             4             5             6             7             8             9             \n",
      "ACC(Accuracy)                                                     0.69767       0.65088       0.95239       0.97871       0.99632       0.99801       0.99866       0.99979       0.99998       0.99999       \n",
      "AUC(Area under the ROC curve)                                     0.69792       0.63614       0.50445       0.50179       0.5           0.5           0.5           0.5           0.5           0.5           \n",
      "AUCI(AUC value interpretation)                                    Fair          Fair          Poor          Poor          Poor          Poor          Poor          Poor          Poor          Poor          \n",
      "F1(F1 score - harmonic mean of precision and sensitivity)         0.72921       0.56702       0.01855       0.00725       0.0           0.0           0.0           0.0           0.0           0.0           \n",
      "FN(False negative/miss/type 2 error)                              16536         35348         8474          3821          662           359           241           38            4             1             \n",
      "FP(False positive/type 1 error/false alarm)                       37884         27493         96            11            0             0             0             0             0             0             \n",
      "N(Condition negative)                                             90191         103504        171445        176165        179338        179641        179759        179962        179996        179999        \n",
      "P(Condition positive or support)                                  89809         76496         8555          3835          662           359           241           38            4             1             \n",
      "POP(Population)                                                   180000        180000        180000        180000        180000        180000        180000        180000        180000        180000        \n",
      "PPV(Precision or positive predictive value)                       0.65918       0.59947       0.45763       0.56          None          None          None          None          None          None          \n",
      "TN(True negative/correct rejection)                               52307         76011         171349        176154        179338        179641        179759        179962        179996        179999        \n",
      "TON(Test outcome negative)                                        68843         111359        179823        179975        180000        180000        180000        180000        180000        180000        \n",
      "TOP(Test outcome positive)                                        111157        68641         177           25            0             0             0             0             0             0             \n",
      "TP(True positive/hit)                                             73273         41148         81            14            0             0             0             0             0             0             \n",
      "TPR(Sensitivity, recall, hit rate, or true positive rate)         0.81588       0.53791       0.00947       0.00365       0.0           0.0           0.0           0.0           0.0           0.0           \n",
      "\n",
      "None\n"
     ]
    },
    {
     "name": "stderr",
     "output_type": "stream",
     "text": [
      "C:\\Users\\khist\\Anaconda3\\lib\\site-packages\\pycm\\pycm_obj.py:174: RuntimeWarning: The confusion matrix is a high dimension matrix and won't be demonstrated properly.\n",
      "The save_csv method can be used to save the confusion matrix in csv format and have a better demonstration of it.\n",
      "  warn(CLASS_NUMBER_WARNING, RuntimeWarning)\n"
     ]
    }
   ],
   "source": [
    "y_actu =  numpy.array(val_y) \n",
    "y_pred =  numpy.array(pred_knn) \n",
    "\n",
    "cm2 = ConfusionMatrix(actual_vector=y_actu, predict_vector=y_pred) # Create CM From Data\n",
    "print(\"Total Classes: \",cm2.classes)\n",
    "print(cm2.stat(summary=True))"
   ]
  },
  {
   "cell_type": "markdown",
   "metadata": {},
   "source": [
    "1. **Is the relationship significant?**\n",
    "-> **Yes**\n",
    "2. **Are any model assumptions violated?**\n",
    "-> **No**\n",
    "3. **Is there any multi-collinearity in the model?**\n",
    "-> **No**\n",
    "4. **In the multivariate models are predictor variables independent of all the other predictor variables?**\n",
    "-> **Yes,there is No multi-collinearity**\n",
    "6. **Does the model make sense?**\n",
    "-> **yes**\n",
    "7. **Does regularization help?**\n",
    "-> **did not use any regularization method**\n",
    "8. **Which independent variables are significant?**\n",
    "-> **C2,C5,S2,C3 are significant**\n",
    "9. **Which hyperparameters are important?**\n",
    "-> **n_neighbors is important hyperparamenter in this model**"
   ]
  },
  {
   "cell_type": "markdown",
   "metadata": {},
   "source": [
    "# 3.GradientBoostingClassifier"
   ]
  },
  {
   "cell_type": "code",
   "execution_count": 81,
   "metadata": {
    "scrolled": true
   },
   "outputs": [
    {
     "data": {
      "text/plain": [
       "GradientBoostingClassifier(criterion='friedman_mse', init=None,\n",
       "                           learning_rate=0.1, loss='deviance', max_depth=3,\n",
       "                           max_features=None, max_leaf_nodes=None,\n",
       "                           min_impurity_decrease=0.0, min_impurity_split=None,\n",
       "                           min_samples_leaf=1, min_samples_split=2,\n",
       "                           min_weight_fraction_leaf=0.0, n_estimators=100,\n",
       "                           n_iter_no_change=None, presort='auto',\n",
       "                           random_state=None, subsample=1.0, tol=0.0001,\n",
       "                           validation_fraction=0.1, verbose=0,\n",
       "                           warm_start=False)"
      ]
     },
     "execution_count": 81,
     "metadata": {},
     "output_type": "execute_result"
    }
   ],
   "source": [
    "from sklearn.ensemble import GradientBoostingClassifier\n",
    "gbc = GradientBoostingClassifier()\n",
    "gbc.fit(train_X, train_y)"
   ]
  },
  {
   "cell_type": "code",
   "execution_count": 82,
   "metadata": {},
   "outputs": [],
   "source": [
    "pred_gbc=gbc.predict(val_X)"
   ]
  },
  {
   "cell_type": "code",
   "execution_count": 83,
   "metadata": {},
   "outputs": [
    {
     "name": "stdout",
     "output_type": "stream",
     "text": [
      "Important of independant variables:  \n",
      "Variable: C1                   Importance: 0.23\n",
      "Variable: C5                   Importance: 0.22\n",
      "Variable: C2                   Importance: 0.2\n",
      "Variable: C4                   Importance: 0.19\n",
      "Variable: C3                   Importance: 0.14\n",
      "Variable: S1                   Importance: 0.0\n",
      "Variable: S2                   Importance: 0.0\n",
      "Variable: S3                   Importance: 0.0\n",
      "Variable: S4                   Importance: 0.0\n",
      "Variable: S5                   Importance: 0.0\n"
     ]
    }
   ],
   "source": [
    "print(\"Important of independant variables:  \")\n",
    "importances = list(gbc.feature_importances_)\n",
    "feature_importances = [(feature, round(importance, 2)) for feature, importance in zip(feature_list, importances)]\n",
    "feature_importances = sorted(feature_importances, key = lambda x: x[1], reverse = True)\n",
    "[print('Variable: {:20} Importance: {}'.format(*pair)) for pair in feature_importances];"
   ]
  },
  {
   "cell_type": "code",
   "execution_count": 84,
   "metadata": {},
   "outputs": [
    {
     "data": {
      "text/plain": [
       "0.6335333333333333"
      ]
     },
     "execution_count": 84,
     "metadata": {},
     "output_type": "execute_result"
    }
   ],
   "source": [
    "score_gbc=gbc.score(val_X, val_y)\n",
    "score_gbc"
   ]
  },
  {
   "cell_type": "code",
   "execution_count": 85,
   "metadata": {},
   "outputs": [
    {
     "name": "stdout",
     "output_type": "stream",
     "text": [
      "Total Classes:  [0, 1, 2, 3, 4, 5, 6, 7, 8, 9]\n",
      "Overall Statistics : \n",
      "\n",
      "ACC Macro                                                         0.92671\n",
      "F1 Macro                                                          0.17324\n",
      "Kappa                                                             0.30251\n",
      "Overall ACC                                                       0.63353\n",
      "PPV Macro                                                         None\n",
      "SOA1(Landis & Koch)                                               Fair\n",
      "TPR Macro                                                         0.16143\n",
      "Zero-one Loss                                                     65964\n",
      "\n",
      "Class Statistics :\n",
      "\n",
      "Classes                                                           0             1             2             3             4             5             6             7             8             9             \n",
      "ACC(Accuracy)                                                     0.68981       0.65216       0.95247       0.97942       0.99632       0.99847       0.99867       0.99979       0.99998       0.99999       \n",
      "AUC(Area under the ROC curve)                                     0.69019       0.62798       0.5           0.51988       0.5           0.61699       0.50207       0.5           0.5           0.5           \n",
      "AUCI(AUC value interpretation)                                    Fair          Fair          Poor          Poor          Poor          Fair          Poor          Poor          Poor          Poor          \n",
      "F1(F1 score - harmonic mean of precision and sensitivity)         0.73664       0.53287       0.0           0.07629       0.0           0.37838       0.00826       0.0           0.0           0.0           \n",
      "FN(False negative/miss/type 2 error)                              11723         40784         8555          3682          662           275           240           38            4             1             \n",
      "FP(False positive/type 1 error/false alarm)                       44112         21828         0             23            0             1             0             0             0             0             \n",
      "N(Condition negative)                                             90191         103504        171445        176165        179338        179641        179759        179962        179996        179999        \n",
      "P(Condition positive or support)                                  89809         76496         8555          3835          662           359           241           38            4             1             \n",
      "POP(Population)                                                   180000        180000        180000        180000        180000        180000        180000        180000        180000        180000        \n",
      "PPV(Precision or positive predictive value)                       0.63901       0.62065       None          0.86932       None          0.98824       1.0           None          None          None          \n",
      "TN(True negative/correct rejection)                               46079         81676         171445        176142        179338        179640        179759        179962        179996        179999        \n",
      "TON(Test outcome negative)                                        57802         122460        180000        179824        180000        179915        179999        180000        180000        180000        \n",
      "TOP(Test outcome positive)                                        122198        57540         0             176           0             85            1             0             0             0             \n",
      "TP(True positive/hit)                                             78086         35712         0             153           0             84            1             0             0             0             \n",
      "TPR(Sensitivity, recall, hit rate, or true positive rate)         0.86947       0.46685       0.0           0.0399        0.0           0.23398       0.00415       0.0           0.0           0.0           \n",
      "\n",
      "None\n"
     ]
    },
    {
     "name": "stderr",
     "output_type": "stream",
     "text": [
      "C:\\Users\\khist\\Anaconda3\\lib\\site-packages\\pycm\\pycm_obj.py:174: RuntimeWarning: The confusion matrix is a high dimension matrix and won't be demonstrated properly.\n",
      "The save_csv method can be used to save the confusion matrix in csv format and have a better demonstration of it.\n",
      "  warn(CLASS_NUMBER_WARNING, RuntimeWarning)\n"
     ]
    }
   ],
   "source": [
    "y_actu =  numpy.array(val_y) \n",
    "y_pred =  numpy.array(pred_gbc) \n",
    "\n",
    "cm3 = ConfusionMatrix(actual_vector=y_actu, predict_vector=y_pred) # Create CM From Data\n",
    "print(\"Total Classes: \",cm3.classes)\n",
    "print(cm3.stat(summary=True))"
   ]
  },
  {
   "cell_type": "markdown",
   "metadata": {},
   "source": [
    "1. **Is the relationship significant?**\n",
    "-> **Yes**\n",
    "2. **Are any model assumptions violated?**\n",
    "-> **No**\n",
    "3. **Is there any multi-collinearity in the model?**\n",
    "-> **No**\n",
    "4. **In the multivariate models are predictor variables independent of all the other predictor variables?**\n",
    "-> **Yes,there is No multi-collinearity**\n",
    "5. **In in multivariate models rank the most significant predictor variables and exclude insignificant ones from the model.**\n",
    "-> **C3,C4,C5,C1,C2,S4,S5 are the most important features amongs the other**\n",
    "6. **Does the model make sense?**\n",
    "-> **yes**\n",
    "7. **Does regularization help?**\n",
    "-> **did not use any regularization method**\n",
    "8. **Which independent variables are significant?**\n",
    "-> **C3,C4,C5,C1,C2,S4,S5 are significant**\n",
    "9. **Which hyperparameters are important?**\n",
    "-> **max_depth and learning rate is important hyperparamenter in this model** "
   ]
  },
  {
   "cell_type": "markdown",
   "metadata": {},
   "source": [
    "# Validation on Test data:"
   ]
  },
  {
   "cell_type": "code",
   "execution_count": 94,
   "metadata": {},
   "outputs": [],
   "source": [
    "label = ['RF','KNN','GBC']\n",
    "s1=[]"
   ]
  },
  {
   "cell_type": "code",
   "execution_count": 95,
   "metadata": {},
   "outputs": [
    {
     "name": "stdout",
     "output_type": "stream",
     "text": [
      "Random Forest : 0.50637\n"
     ]
    }
   ],
   "source": [
    "## Random Forest\n",
    "pred_rfc_t=rfc.predict(test_X)\n",
    "s1.append(f1_score(test_y,pred_rfc_t,average=\"micro\"))\n",
    "print(\"Random Forest :\",f1_score(test_y,pred_rfc_t,average=\"micro\"))"
   ]
  },
  {
   "cell_type": "code",
   "execution_count": 96,
   "metadata": {},
   "outputs": [
    {
     "name": "stdout",
     "output_type": "stream",
     "text": [
      "KNN : 0.63948\n"
     ]
    }
   ],
   "source": [
    "#KNeighborsClassifier\n",
    "pred_knn_t=neigh.predict(test_X)\n",
    "score_knn_t=accuracy_score(test_y, pred_knn_t)\n",
    "s1.append(score_knn_t)\n",
    "print(\"KNN :\",score_knn_t)"
   ]
  },
  {
   "cell_type": "code",
   "execution_count": 97,
   "metadata": {},
   "outputs": [
    {
     "name": "stdout",
     "output_type": "stream",
     "text": [
      "GradientBoostingClassifier : 0.63515\n"
     ]
    }
   ],
   "source": [
    "##GradientBoostingClassifier\n",
    "pred_gbc_t=gbc.predict(test_X)\n",
    "score_gbc_t=gbc.score(test_X, test_y)\n",
    "s1.append(score_gbc_t)\n",
    "print(\"GradientBoostingClassifier :\",score_gbc_t)"
   ]
  },
  {
   "cell_type": "code",
   "execution_count": 98,
   "metadata": {},
   "outputs": [
    {
     "data": {
      "image/png": "[encoded data removed]",
      "text/plain": [
       "<Figure size 432x288 with 1 Axes>"
      ]
     },
     "metadata": {
      "needs_background": "light"
     },
     "output_type": "display_data"
    }
   ],
   "source": [
    "import math\n",
    "import matplotlib.pyplot as plt\n",
    "\n",
    "x = label\n",
    "y = s1\n",
    "low = 0.0\n",
    "high = 0.80\n",
    "plt.ylim([math.ceil(low-0.5*(high-low)), math.ceil(high+0.5*(high-low))])\n",
    "plt.bar(x,y) \n",
    "plt.show()"
   ]
  },
  {
   "cell_type": "markdown",
   "metadata": {},
   "source": [
    "# Conclusion\n",
    "<br>\n",
    "From \"Random Forest, KNeighborsClassifier and GradientBoostingClassifier\", KNeighborsClassifier gave higher accuracy for this dataset which is 63.94%. <br> \n",
    "Althogh, OLS is used for Regression, I used it to get the statistics about the independent varibles such as T-test,        P-value etc.<br>\n",
    "I have Used corr() to find out multi-collinearity between the independent variables but it is advisable to use VIF for that purpose. <br>\n",
    "Also, The accuracy can be improved by building Bay's model.<br> \n",
    "Hyper parameter tuning is necessary to get more accuarcy since the data is discrete and random.<br> \n",
    "            \n",
    "             "
   ]
  },
  {
   "cell_type": "markdown",
   "metadata": {},
   "source": [
    "# Author:\n",
    "Pranav Khiste( NUID : 001057866 )<br>\n",
    "Information Systems<br>\n",
    "Northeastern University<br>"
   ]
  },
  {
   "cell_type": "markdown",
   "metadata": {},
   "source": [
    "# Citation:\n",
    "References:<br>\n",
    "https://archive.ics.uci.edu/ml/datasets/Poker+Hand<br>\n",
    "https://scikit-learn.org/stable/index.html<br>\n",
    "https://towardsdatascience.com/<br>"
   ]
  },
  {
   "cell_type": "markdown",
   "metadata": {},
   "source": [
    "# Licensing"
   ]
  },
  {
   "cell_type": "markdown",
   "metadata": {},
   "source": [
    "Copyright 2020 Pranav Sanjay Khiste\n",
    "\n",
    "Permission is hereby granted, free of charge, to any person obtaining a copy of this software and associated documentation files (the \"Software\"), to deal in the Software without restriction, including without limitation the rights to use, copy, modify, merge, publish, distribute, sublicense, and/or sell copies of the Software, and to permit persons to whom the Software is furnished to do so, subject to the following conditions:\n",
    "\n",
    "The above copyright notice and this permission notice shall be included in all copies or substantial portions of the Software.\n",
    "\n",
    "THE SOFTWARE IS PROVIDED \"AS IS\", WITHOUT WARRANTY OF ANY KIND, EXPRESS OR IMPLIED, INCLUDING BUT NOT LIMITED TO THE WARRANTIES OF MERCHANTABILITY, FITNESS FOR A PARTICULAR PURPOSE AND NONINFRINGEMENT. IN NO EVENT SHALL THE AUTHORS OR COPYRIGHT HOLDERS BE LIABLE FOR ANY CLAIM, DAMAGES OR OTHER LIABILITY, WHETHER IN AN ACTION OF CONTRACT, TORT OR OTHERWISE, ARISING FROM, OUT OF OR IN CONNECTION WITH THE SOFTWARE OR THE USE OR OTHER DEALINGS IN THE SOFTWARE."
   ]
  }
 ],
 "metadata": {
  "kernelspec": {
   "display_name": "Python 3",
   "language": "python",
   "name": "python3"
  },
  "language_info": {
   "codemirror_mode": {
    "name": "ipython",
    "version": 3
   },
   "file_extension": ".py",
   "mimetype": "text/x-python",
   "name": "python",
   "nbconvert_exporter": "python",
   "pygments_lexer": "ipython3",
   "version": "3.7.3"
  }
 },
 "nbformat": 4,
 "nbformat_minor": 2
}
